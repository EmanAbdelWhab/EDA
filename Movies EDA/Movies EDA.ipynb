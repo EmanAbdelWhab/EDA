{
 "cells": [
  {
   "cell_type": "markdown",
   "id": "f3829eab-a4a4-444a-9cdc-0fff25693602",
   "metadata": {},
   "source": [
    "# Movies EDA"
   ]
  },
  {
   "cell_type": "markdown",
   "id": "50c28064-7f89-4de1-8497-ce021ff04695",
   "metadata": {},
   "source": [
    "## import liberaries"
   ]
  },
  {
   "cell_type": "code",
   "execution_count": 3,
   "id": "842c21ca-f105-46f7-8cc7-e2eeff21522e",
   "metadata": {},
   "outputs": [],
   "source": [
    "import numpy as np\n",
    "import pandas as pd \n",
    "import matplotlib.pyplot as plt\n",
    "import seaborn as sns"
   ]
  },
  {
   "cell_type": "markdown",
   "id": "6b5b8cf9-fc4c-415b-9fd5-4370ccf50cdc",
   "metadata": {},
   "source": [
    "## Reading Data"
   ]
  },
  {
   "cell_type": "code",
   "execution_count": 4,
   "id": "1225a775-543f-452e-94d1-454d837eadaa",
   "metadata": {
    "scrolled": true
   },
   "outputs": [
    {
     "data": {
      "text/html": [
       "<div>\n",
       "<style scoped>\n",
       "    .dataframe tbody tr th:only-of-type {\n",
       "        vertical-align: middle;\n",
       "    }\n",
       "\n",
       "    .dataframe tbody tr th {\n",
       "        vertical-align: top;\n",
       "    }\n",
       "\n",
       "    .dataframe thead th {\n",
       "        text-align: right;\n",
       "    }\n",
       "</style>\n",
       "<table border=\"1\" class=\"dataframe\">\n",
       "  <thead>\n",
       "    <tr style=\"text-align: right;\">\n",
       "      <th></th>\n",
       "      <th>ranking of movie</th>\n",
       "      <th>movie name</th>\n",
       "      <th>Year</th>\n",
       "      <th>certificate</th>\n",
       "      <th>runtime</th>\n",
       "      <th>genre</th>\n",
       "      <th>RATING</th>\n",
       "      <th>DETAIL ABOUT MOVIE</th>\n",
       "      <th>DIRECTOR</th>\n",
       "      <th>ACTOR 1</th>\n",
       "      <th>ACTOR 2</th>\n",
       "      <th>ACTOR 3</th>\n",
       "      <th>ACTOR 4</th>\n",
       "      <th>votes</th>\n",
       "      <th>metascore</th>\n",
       "      <th>GROSS COLLECTION</th>\n",
       "    </tr>\n",
       "  </thead>\n",
       "  <tbody>\n",
       "    <tr>\n",
       "      <th>0</th>\n",
       "      <td>1</td>\n",
       "      <td>Jai Bhim</td>\n",
       "      <td>-2021</td>\n",
       "      <td>TV-MA</td>\n",
       "      <td>164 min</td>\n",
       "      <td>Crime, Drama</td>\n",
       "      <td>9.4</td>\n",
       "      <td>When a tribal man is arrested for a case of al...</td>\n",
       "      <td>T.J. Gnanavel</td>\n",
       "      <td>Suriya</td>\n",
       "      <td>Lijo Mol Jose</td>\n",
       "      <td>Manikandan</td>\n",
       "      <td>Rajisha Vijayan</td>\n",
       "      <td>163431</td>\n",
       "      <td>NaN</td>\n",
       "      <td>NaN</td>\n",
       "    </tr>\n",
       "    <tr>\n",
       "      <th>1</th>\n",
       "      <td>2</td>\n",
       "      <td>The Shawshank Redemption</td>\n",
       "      <td>-1994</td>\n",
       "      <td>R</td>\n",
       "      <td>142 min</td>\n",
       "      <td>Drama</td>\n",
       "      <td>9.3</td>\n",
       "      <td>Two imprisoned men bond over a number of years...</td>\n",
       "      <td>Frank Darabont</td>\n",
       "      <td>Tim Robbins</td>\n",
       "      <td>Morgan Freeman</td>\n",
       "      <td>Bob Gunton</td>\n",
       "      <td>William Sadler</td>\n",
       "      <td>2515762</td>\n",
       "      <td>80.0</td>\n",
       "      <td>$28.34M</td>\n",
       "    </tr>\n",
       "    <tr>\n",
       "      <th>2</th>\n",
       "      <td>3</td>\n",
       "      <td>The Godfather</td>\n",
       "      <td>-1972</td>\n",
       "      <td>R</td>\n",
       "      <td>175 min</td>\n",
       "      <td>Crime, Drama</td>\n",
       "      <td>9.2</td>\n",
       "      <td>The Godfather follows Vito Corleone, Don of th...</td>\n",
       "      <td>Francis Ford Coppola</td>\n",
       "      <td>Marlon Brando</td>\n",
       "      <td>Al Pacino</td>\n",
       "      <td>James Caan</td>\n",
       "      <td>Diane Keaton</td>\n",
       "      <td>1732749</td>\n",
       "      <td>100.0</td>\n",
       "      <td>$134.97M</td>\n",
       "    </tr>\n",
       "    <tr>\n",
       "      <th>3</th>\n",
       "      <td>4</td>\n",
       "      <td>The Dark Knight</td>\n",
       "      <td>-2008</td>\n",
       "      <td>PG-13</td>\n",
       "      <td>152 min</td>\n",
       "      <td>Action, Crime, Drama</td>\n",
       "      <td>9.0</td>\n",
       "      <td>When the menace known as the Joker wreaks havo...</td>\n",
       "      <td>Christopher Nolan</td>\n",
       "      <td>Christian Bale</td>\n",
       "      <td>Heath Ledger</td>\n",
       "      <td>Aaron Eckhart</td>\n",
       "      <td>Michael Caine</td>\n",
       "      <td>2466041</td>\n",
       "      <td>84.0</td>\n",
       "      <td>$534.86M</td>\n",
       "    </tr>\n",
       "    <tr>\n",
       "      <th>4</th>\n",
       "      <td>5</td>\n",
       "      <td>The Godfather: Part II</td>\n",
       "      <td>-1974</td>\n",
       "      <td>R</td>\n",
       "      <td>202 min</td>\n",
       "      <td>Crime, Drama</td>\n",
       "      <td>9.0</td>\n",
       "      <td>The early life and career of Vito Corleone in ...</td>\n",
       "      <td>Francis Ford Coppola</td>\n",
       "      <td>Al Pacino</td>\n",
       "      <td>Robert De Niro</td>\n",
       "      <td>Robert Duvall</td>\n",
       "      <td>Diane Keaton</td>\n",
       "      <td>1202401</td>\n",
       "      <td>90.0</td>\n",
       "      <td>$57.30M</td>\n",
       "    </tr>\n",
       "  </tbody>\n",
       "</table>\n",
       "</div>"
      ],
      "text/plain": [
       "   ranking of movie               movie name    Year certificate  runtime  \\\n",
       "0                 1                  Jai Bhim  -2021       TV-MA  164 min   \n",
       "1                 2  The Shawshank Redemption  -1994           R  142 min   \n",
       "2                 3             The Godfather  -1972           R  175 min   \n",
       "3                 4           The Dark Knight  -2008       PG-13  152 min   \n",
       "4                 5    The Godfather: Part II  -1974           R  202 min   \n",
       "\n",
       "                  genre  RATING  \\\n",
       "0          Crime, Drama     9.4   \n",
       "1                 Drama     9.3   \n",
       "2          Crime, Drama     9.2   \n",
       "3  Action, Crime, Drama     9.0   \n",
       "4          Crime, Drama     9.0   \n",
       "\n",
       "                                  DETAIL ABOUT MOVIE             DIRECTOR   \\\n",
       "0  When a tribal man is arrested for a case of al...         T.J. Gnanavel   \n",
       "1  Two imprisoned men bond over a number of years...        Frank Darabont   \n",
       "2  The Godfather follows Vito Corleone, Don of th...  Francis Ford Coppola   \n",
       "3  When the menace known as the Joker wreaks havo...     Christopher Nolan   \n",
       "4  The early life and career of Vito Corleone in ...  Francis Ford Coppola   \n",
       "\n",
       "          ACTOR 1         ACTOR 2        ACTOR 3          ACTOR 4    votes  \\\n",
       "0          Suriya   Lijo Mol Jose     Manikandan  Rajisha Vijayan   163431   \n",
       "1     Tim Robbins  Morgan Freeman     Bob Gunton   William Sadler  2515762   \n",
       "2   Marlon Brando       Al Pacino     James Caan     Diane Keaton  1732749   \n",
       "3  Christian Bale    Heath Ledger  Aaron Eckhart    Michael Caine  2466041   \n",
       "4       Al Pacino  Robert De Niro  Robert Duvall     Diane Keaton  1202401   \n",
       "\n",
       "   metascore GROSS COLLECTION  \n",
       "0        NaN              NaN  \n",
       "1       80.0          $28.34M  \n",
       "2      100.0         $134.97M  \n",
       "3       84.0         $534.86M  \n",
       "4       90.0          $57.30M  "
      ]
     },
     "execution_count": 4,
     "metadata": {},
     "output_type": "execute_result"
    }
   ],
   "source": [
    "movies = pd.read_csv(r\"D:\\Data science\\practice\\datasets\\imdb_movies.csv\")\n",
    "movies.head()"
   ]
  },
  {
   "cell_type": "code",
   "execution_count": 5,
   "id": "a26130b6-2fa7-480b-8a6b-3b8e6d21bea5",
   "metadata": {},
   "outputs": [
    {
     "data": {
      "text/html": [
       "<div>\n",
       "<style scoped>\n",
       "    .dataframe tbody tr th:only-of-type {\n",
       "        vertical-align: middle;\n",
       "    }\n",
       "\n",
       "    .dataframe tbody tr th {\n",
       "        vertical-align: top;\n",
       "    }\n",
       "\n",
       "    .dataframe thead th {\n",
       "        text-align: right;\n",
       "    }\n",
       "</style>\n",
       "<table border=\"1\" class=\"dataframe\">\n",
       "  <thead>\n",
       "    <tr style=\"text-align: right;\">\n",
       "      <th></th>\n",
       "      <th>ranking of movie</th>\n",
       "      <th>movie name</th>\n",
       "      <th>Year</th>\n",
       "      <th>certificate</th>\n",
       "      <th>runtime</th>\n",
       "      <th>genre</th>\n",
       "      <th>RATING</th>\n",
       "      <th>DETAIL ABOUT MOVIE</th>\n",
       "      <th>DIRECTOR</th>\n",
       "      <th>ACTOR 1</th>\n",
       "      <th>ACTOR 2</th>\n",
       "      <th>ACTOR 3</th>\n",
       "      <th>ACTOR 4</th>\n",
       "      <th>votes</th>\n",
       "      <th>metascore</th>\n",
       "      <th>GROSS COLLECTION</th>\n",
       "    </tr>\n",
       "  </thead>\n",
       "  <tbody>\n",
       "    <tr>\n",
       "      <th>245</th>\n",
       "      <td>246</td>\n",
       "      <td>Mr. Smith Goes to Washington</td>\n",
       "      <td>-1939</td>\n",
       "      <td>Passed</td>\n",
       "      <td>129 min</td>\n",
       "      <td>Comedy, Drama</td>\n",
       "      <td>8.1</td>\n",
       "      <td>A naive youth leader is appointed to fill a va...</td>\n",
       "      <td>Frank Capra</td>\n",
       "      <td>James Stewart</td>\n",
       "      <td>Jean Arthur</td>\n",
       "      <td>Claude Rains</td>\n",
       "      <td>Edward Arnold</td>\n",
       "      <td>112642</td>\n",
       "      <td>73.0</td>\n",
       "      <td>$9.60M</td>\n",
       "    </tr>\n",
       "    <tr>\n",
       "      <th>246</th>\n",
       "      <td>247</td>\n",
       "      <td>Gone with the Wind</td>\n",
       "      <td>-1939</td>\n",
       "      <td>Passed</td>\n",
       "      <td>238 min</td>\n",
       "      <td>Drama, History, Romance</td>\n",
       "      <td>8.1</td>\n",
       "      <td>The manipulative daughter of a Georgia plantat...</td>\n",
       "      <td>Victor Fleming</td>\n",
       "      <td>George Cukor</td>\n",
       "      <td>Sam Wood</td>\n",
       "      <td>Clark Gable</td>\n",
       "      <td>Vivien Leigh</td>\n",
       "      <td>304725</td>\n",
       "      <td>97.0</td>\n",
       "      <td>$198.68M</td>\n",
       "    </tr>\n",
       "    <tr>\n",
       "      <th>247</th>\n",
       "      <td>248</td>\n",
       "      <td>It Happened One Night</td>\n",
       "      <td>-1934</td>\n",
       "      <td>Passed</td>\n",
       "      <td>105 min</td>\n",
       "      <td>Comedy, Romance</td>\n",
       "      <td>8.1</td>\n",
       "      <td>A renegade reporter trailing a young runaway h...</td>\n",
       "      <td>Frank Capra</td>\n",
       "      <td>Clark Gable</td>\n",
       "      <td>Claudette Colbert</td>\n",
       "      <td>Walter Connolly</td>\n",
       "      <td>Roscoe Karns</td>\n",
       "      <td>100198</td>\n",
       "      <td>87.0</td>\n",
       "      <td>$4.36M</td>\n",
       "    </tr>\n",
       "    <tr>\n",
       "      <th>248</th>\n",
       "      <td>249</td>\n",
       "      <td>The Passion of Joan of Arc</td>\n",
       "      <td>-1928</td>\n",
       "      <td>Passed</td>\n",
       "      <td>114 min</td>\n",
       "      <td>Biography, Drama, History</td>\n",
       "      <td>8.1</td>\n",
       "      <td>In 1431, Jeanne d'Arc is placed on trial on ch...</td>\n",
       "      <td>Carl Theodor Dreyer</td>\n",
       "      <td>Maria Falconetti</td>\n",
       "      <td>Eugene Silvain</td>\n",
       "      <td>André Berley</td>\n",
       "      <td>Maurice Schutz</td>\n",
       "      <td>52264</td>\n",
       "      <td>NaN</td>\n",
       "      <td>$0.02M</td>\n",
       "    </tr>\n",
       "    <tr>\n",
       "      <th>249</th>\n",
       "      <td>250</td>\n",
       "      <td>The General</td>\n",
       "      <td>-1926</td>\n",
       "      <td>Passed</td>\n",
       "      <td>67 min</td>\n",
       "      <td>Action, Adventure, Comedy</td>\n",
       "      <td>8.1</td>\n",
       "      <td>After being rejected by the Confederate milita...</td>\n",
       "      <td>Clyde Bruckman</td>\n",
       "      <td>Buster Keaton</td>\n",
       "      <td>Buster Keaton</td>\n",
       "      <td>Marion Mack</td>\n",
       "      <td>Glen Cavender</td>\n",
       "      <td>88022</td>\n",
       "      <td>NaN</td>\n",
       "      <td>$1.03M</td>\n",
       "    </tr>\n",
       "  </tbody>\n",
       "</table>\n",
       "</div>"
      ],
      "text/plain": [
       "     ranking of movie                   movie name    Year certificate  \\\n",
       "245               246  Mr. Smith Goes to Washington  -1939      Passed   \n",
       "246               247            Gone with the Wind  -1939      Passed   \n",
       "247               248         It Happened One Night  -1934      Passed   \n",
       "248               249    The Passion of Joan of Arc  -1928      Passed   \n",
       "249               250                   The General  -1926      Passed   \n",
       "\n",
       "     runtime                      genre  RATING  \\\n",
       "245  129 min              Comedy, Drama     8.1   \n",
       "246  238 min    Drama, History, Romance     8.1   \n",
       "247  105 min            Comedy, Romance     8.1   \n",
       "248  114 min  Biography, Drama, History     8.1   \n",
       "249   67 min  Action, Adventure, Comedy     8.1   \n",
       "\n",
       "                                    DETAIL ABOUT MOVIE            DIRECTOR   \\\n",
       "245  A naive youth leader is appointed to fill a va...          Frank Capra   \n",
       "246  The manipulative daughter of a Georgia plantat...       Victor Fleming   \n",
       "247  A renegade reporter trailing a young runaway h...          Frank Capra   \n",
       "248  In 1431, Jeanne d'Arc is placed on trial on ch...  Carl Theodor Dreyer   \n",
       "249  After being rejected by the Confederate milita...       Clyde Bruckman   \n",
       "\n",
       "              ACTOR 1            ACTOR 2          ACTOR 3         ACTOR 4  \\\n",
       "245     James Stewart        Jean Arthur     Claude Rains   Edward Arnold   \n",
       "246      George Cukor           Sam Wood      Clark Gable    Vivien Leigh   \n",
       "247       Clark Gable  Claudette Colbert  Walter Connolly    Roscoe Karns   \n",
       "248  Maria Falconetti     Eugene Silvain     André Berley  Maurice Schutz   \n",
       "249     Buster Keaton      Buster Keaton      Marion Mack   Glen Cavender   \n",
       "\n",
       "      votes  metascore GROSS COLLECTION  \n",
       "245  112642       73.0           $9.60M  \n",
       "246  304725       97.0         $198.68M  \n",
       "247  100198       87.0           $4.36M  \n",
       "248   52264        NaN           $0.02M  \n",
       "249   88022        NaN           $1.03M  "
      ]
     },
     "execution_count": 5,
     "metadata": {},
     "output_type": "execute_result"
    }
   ],
   "source": [
    "movies.tail()"
   ]
  },
  {
   "cell_type": "code",
   "execution_count": 6,
   "id": "32c4f201-396c-4e6a-ab27-7193a83e52cb",
   "metadata": {},
   "outputs": [
    {
     "data": {
      "text/plain": [
       "Index(['ranking of movie', 'movie name ', 'Year', 'certificate', 'runtime',\n",
       "       'genre', 'RATING', 'DETAIL ABOUT MOVIE', 'DIRECTOR ', 'ACTOR 1',\n",
       "       'ACTOR 2', 'ACTOR 3', 'ACTOR 4', 'votes', 'metascore',\n",
       "       'GROSS COLLECTION'],\n",
       "      dtype='object')"
      ]
     },
     "execution_count": 6,
     "metadata": {},
     "output_type": "execute_result"
    }
   ],
   "source": [
    "# columns name\n",
    "movies.columns"
   ]
  },
  {
   "cell_type": "code",
   "execution_count": 7,
   "id": "c6799e09-2849-4405-93b3-12cebfebbbd7",
   "metadata": {},
   "outputs": [
    {
     "data": {
      "text/plain": [
       "(250, 16)"
      ]
     },
     "execution_count": 7,
     "metadata": {},
     "output_type": "execute_result"
    }
   ],
   "source": [
    "# shape of data\n",
    "movies.shape"
   ]
  },
  {
   "cell_type": "code",
   "execution_count": 8,
   "id": "08593906-641b-4057-b424-202d2d8c16ca",
   "metadata": {},
   "outputs": [
    {
     "name": "stdout",
     "output_type": "stream",
     "text": [
      "<class 'pandas.core.frame.DataFrame'>\n",
      "RangeIndex: 250 entries, 0 to 249\n",
      "Data columns (total 16 columns):\n",
      " #   Column              Non-Null Count  Dtype  \n",
      "---  ------              --------------  -----  \n",
      " 0   ranking of movie    250 non-null    int64  \n",
      " 1   movie name          250 non-null    object \n",
      " 2   Year                250 non-null    object \n",
      " 3   certificate         250 non-null    object \n",
      " 4   runtime             250 non-null    object \n",
      " 5   genre               250 non-null    object \n",
      " 6   RATING              250 non-null    float64\n",
      " 7   DETAIL ABOUT MOVIE  250 non-null    object \n",
      " 8   DIRECTOR            250 non-null    object \n",
      " 9   ACTOR 1             250 non-null    object \n",
      " 10  ACTOR 2             250 non-null    object \n",
      " 11  ACTOR 3             250 non-null    object \n",
      " 12  ACTOR 4             250 non-null    object \n",
      " 13  votes               250 non-null    int64  \n",
      " 14  metascore           218 non-null    float64\n",
      " 15  GROSS COLLECTION    214 non-null    object \n",
      "dtypes: float64(2), int64(2), object(12)\n",
      "memory usage: 31.4+ KB\n"
     ]
    }
   ],
   "source": [
    "# info\n",
    "movies.info()"
   ]
  },
  {
   "cell_type": "markdown",
   "id": "b715017c-b2cb-4e6a-86cf-d91d398d7735",
   "metadata": {},
   "source": [
    "## Drop unnecessary columns"
   ]
  },
  {
   "cell_type": "code",
   "execution_count": 9,
   "id": "6bb88a84-3382-48d7-9b5c-ab7c0c804b36",
   "metadata": {},
   "outputs": [],
   "source": [
    "movies.drop(['ranking of movie', 'certificate', 'DETAIL ABOUT MOVIE', 'ACTOR 3', 'ACTOR 4'], axis=1, inplace=True)"
   ]
  },
  {
   "cell_type": "code",
   "execution_count": 10,
   "id": "435e3afd-84b4-4def-8cce-4102c33794ff",
   "metadata": {},
   "outputs": [
    {
     "data": {
      "text/html": [
       "<div>\n",
       "<style scoped>\n",
       "    .dataframe tbody tr th:only-of-type {\n",
       "        vertical-align: middle;\n",
       "    }\n",
       "\n",
       "    .dataframe tbody tr th {\n",
       "        vertical-align: top;\n",
       "    }\n",
       "\n",
       "    .dataframe thead th {\n",
       "        text-align: right;\n",
       "    }\n",
       "</style>\n",
       "<table border=\"1\" class=\"dataframe\">\n",
       "  <thead>\n",
       "    <tr style=\"text-align: right;\">\n",
       "      <th></th>\n",
       "      <th>movie name</th>\n",
       "      <th>Year</th>\n",
       "      <th>runtime</th>\n",
       "      <th>genre</th>\n",
       "      <th>RATING</th>\n",
       "      <th>DIRECTOR</th>\n",
       "      <th>ACTOR 1</th>\n",
       "      <th>ACTOR 2</th>\n",
       "      <th>votes</th>\n",
       "      <th>metascore</th>\n",
       "      <th>GROSS COLLECTION</th>\n",
       "    </tr>\n",
       "  </thead>\n",
       "  <tbody>\n",
       "    <tr>\n",
       "      <th>0</th>\n",
       "      <td>Jai Bhim</td>\n",
       "      <td>-2021</td>\n",
       "      <td>164 min</td>\n",
       "      <td>Crime, Drama</td>\n",
       "      <td>9.4</td>\n",
       "      <td>T.J. Gnanavel</td>\n",
       "      <td>Suriya</td>\n",
       "      <td>Lijo Mol Jose</td>\n",
       "      <td>163431</td>\n",
       "      <td>NaN</td>\n",
       "      <td>NaN</td>\n",
       "    </tr>\n",
       "    <tr>\n",
       "      <th>1</th>\n",
       "      <td>The Shawshank Redemption</td>\n",
       "      <td>-1994</td>\n",
       "      <td>142 min</td>\n",
       "      <td>Drama</td>\n",
       "      <td>9.3</td>\n",
       "      <td>Frank Darabont</td>\n",
       "      <td>Tim Robbins</td>\n",
       "      <td>Morgan Freeman</td>\n",
       "      <td>2515762</td>\n",
       "      <td>80.0</td>\n",
       "      <td>$28.34M</td>\n",
       "    </tr>\n",
       "    <tr>\n",
       "      <th>2</th>\n",
       "      <td>The Godfather</td>\n",
       "      <td>-1972</td>\n",
       "      <td>175 min</td>\n",
       "      <td>Crime, Drama</td>\n",
       "      <td>9.2</td>\n",
       "      <td>Francis Ford Coppola</td>\n",
       "      <td>Marlon Brando</td>\n",
       "      <td>Al Pacino</td>\n",
       "      <td>1732749</td>\n",
       "      <td>100.0</td>\n",
       "      <td>$134.97M</td>\n",
       "    </tr>\n",
       "    <tr>\n",
       "      <th>3</th>\n",
       "      <td>The Dark Knight</td>\n",
       "      <td>-2008</td>\n",
       "      <td>152 min</td>\n",
       "      <td>Action, Crime, Drama</td>\n",
       "      <td>9.0</td>\n",
       "      <td>Christopher Nolan</td>\n",
       "      <td>Christian Bale</td>\n",
       "      <td>Heath Ledger</td>\n",
       "      <td>2466041</td>\n",
       "      <td>84.0</td>\n",
       "      <td>$534.86M</td>\n",
       "    </tr>\n",
       "    <tr>\n",
       "      <th>4</th>\n",
       "      <td>The Godfather: Part II</td>\n",
       "      <td>-1974</td>\n",
       "      <td>202 min</td>\n",
       "      <td>Crime, Drama</td>\n",
       "      <td>9.0</td>\n",
       "      <td>Francis Ford Coppola</td>\n",
       "      <td>Al Pacino</td>\n",
       "      <td>Robert De Niro</td>\n",
       "      <td>1202401</td>\n",
       "      <td>90.0</td>\n",
       "      <td>$57.30M</td>\n",
       "    </tr>\n",
       "  </tbody>\n",
       "</table>\n",
       "</div>"
      ],
      "text/plain": [
       "                movie name    Year  runtime                 genre  RATING  \\\n",
       "0                  Jai Bhim  -2021  164 min          Crime, Drama     9.4   \n",
       "1  The Shawshank Redemption  -1994  142 min                 Drama     9.3   \n",
       "2             The Godfather  -1972  175 min          Crime, Drama     9.2   \n",
       "3           The Dark Knight  -2008  152 min  Action, Crime, Drama     9.0   \n",
       "4    The Godfather: Part II  -1974  202 min          Crime, Drama     9.0   \n",
       "\n",
       "              DIRECTOR          ACTOR 1         ACTOR 2    votes  metascore  \\\n",
       "0         T.J. Gnanavel          Suriya   Lijo Mol Jose   163431        NaN   \n",
       "1        Frank Darabont     Tim Robbins  Morgan Freeman  2515762       80.0   \n",
       "2  Francis Ford Coppola   Marlon Brando       Al Pacino  1732749      100.0   \n",
       "3     Christopher Nolan  Christian Bale    Heath Ledger  2466041       84.0   \n",
       "4  Francis Ford Coppola       Al Pacino  Robert De Niro  1202401       90.0   \n",
       "\n",
       "  GROSS COLLECTION  \n",
       "0              NaN  \n",
       "1          $28.34M  \n",
       "2         $134.97M  \n",
       "3         $534.86M  \n",
       "4          $57.30M  "
      ]
     },
     "execution_count": 10,
     "metadata": {},
     "output_type": "execute_result"
    }
   ],
   "source": [
    "movies.head()"
   ]
  },
  {
   "cell_type": "code",
   "execution_count": 11,
   "id": "9da3e9d3-86cd-4210-98d9-2bdbd7a5177b",
   "metadata": {},
   "outputs": [
    {
     "data": {
      "text/plain": [
       "Index(['movie name ', 'Year', 'runtime', 'genre', 'RATING', 'DIRECTOR ',\n",
       "       'ACTOR 1', 'ACTOR 2', 'votes', 'metascore', 'GROSS COLLECTION'],\n",
       "      dtype='object')"
      ]
     },
     "execution_count": 11,
     "metadata": {},
     "output_type": "execute_result"
    }
   ],
   "source": [
    "movies.columns"
   ]
  },
  {
   "cell_type": "markdown",
   "id": "319cf87f-a0db-48d8-b2e2-1c854fa9e37f",
   "metadata": {},
   "source": [
    "### All columns name become lower"
   ]
  },
  {
   "cell_type": "code",
   "execution_count": 12,
   "id": "248fbc0d-744a-46ff-9213-87f558384782",
   "metadata": {},
   "outputs": [],
   "source": [
    "# movies name need cleaning\n",
    "movies.columns = movies.columns.str.lower().str.strip()\n",
    "movies.columns = movies.columns.str.replace(' ','_')"
   ]
  },
  {
   "cell_type": "code",
   "execution_count": 13,
   "id": "215da08f-4043-495b-83f6-41898ff0d485",
   "metadata": {},
   "outputs": [
    {
     "data": {
      "text/plain": [
       "Index(['movie_name', 'year', 'runtime', 'genre', 'rating', 'director',\n",
       "       'actor_1', 'actor_2', 'votes', 'metascore', 'gross_collection'],\n",
       "      dtype='object')"
      ]
     },
     "execution_count": 13,
     "metadata": {},
     "output_type": "execute_result"
    }
   ],
   "source": [
    "movies.columns"
   ]
  },
  {
   "cell_type": "code",
   "execution_count": 14,
   "id": "d08307fe-89ff-4f3e-990b-c988adcec467",
   "metadata": {},
   "outputs": [
    {
     "name": "stdout",
     "output_type": "stream",
     "text": [
      "Descriptive Statistics for Continuous Data:\n"
     ]
    },
    {
     "data": {
      "text/html": [
       "<div>\n",
       "<style scoped>\n",
       "    .dataframe tbody tr th:only-of-type {\n",
       "        vertical-align: middle;\n",
       "    }\n",
       "\n",
       "    .dataframe tbody tr th {\n",
       "        vertical-align: top;\n",
       "    }\n",
       "\n",
       "    .dataframe thead th {\n",
       "        text-align: right;\n",
       "    }\n",
       "</style>\n",
       "<table border=\"1\" class=\"dataframe\">\n",
       "  <thead>\n",
       "    <tr style=\"text-align: right;\">\n",
       "      <th></th>\n",
       "      <th>rating</th>\n",
       "      <th>votes</th>\n",
       "      <th>metascore</th>\n",
       "    </tr>\n",
       "  </thead>\n",
       "  <tbody>\n",
       "    <tr>\n",
       "      <th>count</th>\n",
       "      <td>250.000000</td>\n",
       "      <td>2.500000e+02</td>\n",
       "      <td>218.000000</td>\n",
       "    </tr>\n",
       "    <tr>\n",
       "      <th>mean</th>\n",
       "      <td>8.308400</td>\n",
       "      <td>5.785299e+05</td>\n",
       "      <td>82.449541</td>\n",
       "    </tr>\n",
       "    <tr>\n",
       "      <th>std</th>\n",
       "      <td>0.234669</td>\n",
       "      <td>4.951304e+05</td>\n",
       "      <td>10.822392</td>\n",
       "    </tr>\n",
       "    <tr>\n",
       "      <th>min</th>\n",
       "      <td>8.100000</td>\n",
       "      <td>2.653800e+04</td>\n",
       "      <td>55.000000</td>\n",
       "    </tr>\n",
       "    <tr>\n",
       "      <th>25%</th>\n",
       "      <td>8.100000</td>\n",
       "      <td>1.688628e+05</td>\n",
       "      <td>75.000000</td>\n",
       "    </tr>\n",
       "    <tr>\n",
       "      <th>50%</th>\n",
       "      <td>8.200000</td>\n",
       "      <td>4.313355e+05</td>\n",
       "      <td>84.000000</td>\n",
       "    </tr>\n",
       "    <tr>\n",
       "      <th>75%</th>\n",
       "      <td>8.400000</td>\n",
       "      <td>8.854255e+05</td>\n",
       "      <td>90.000000</td>\n",
       "    </tr>\n",
       "    <tr>\n",
       "      <th>max</th>\n",
       "      <td>9.400000</td>\n",
       "      <td>2.515762e+06</td>\n",
       "      <td>100.000000</td>\n",
       "    </tr>\n",
       "  </tbody>\n",
       "</table>\n",
       "</div>"
      ],
      "text/plain": [
       "           rating         votes   metascore\n",
       "count  250.000000  2.500000e+02  218.000000\n",
       "mean     8.308400  5.785299e+05   82.449541\n",
       "std      0.234669  4.951304e+05   10.822392\n",
       "min      8.100000  2.653800e+04   55.000000\n",
       "25%      8.100000  1.688628e+05   75.000000\n",
       "50%      8.200000  4.313355e+05   84.000000\n",
       "75%      8.400000  8.854255e+05   90.000000\n",
       "max      9.400000  2.515762e+06  100.000000"
      ]
     },
     "execution_count": 14,
     "metadata": {},
     "output_type": "execute_result"
    }
   ],
   "source": [
    "# Display basic descriptive statistics\n",
    "print(\"Descriptive Statistics for Continuous Data:\")\n",
    "movies.describe() # continous data"
   ]
  },
  {
   "cell_type": "markdown",
   "id": "43cce756-432c-4d14-bd4e-1e2e52e8a50f",
   "metadata": {},
   "source": [
    "# What is the min. and max. ratings ?"
   ]
  },
  {
   "cell_type": "code",
   "execution_count": 15,
   "id": "e02c223c-e6fc-4a06-a996-f9ffd59b284d",
   "metadata": {},
   "outputs": [
    {
     "data": {
      "text/plain": [
       "np.float64(8.1)"
      ]
     },
     "execution_count": 15,
     "metadata": {},
     "output_type": "execute_result"
    }
   ],
   "source": [
    "movies.rating.min()"
   ]
  },
  {
   "cell_type": "code",
   "execution_count": 16,
   "id": "e73f0fee-8f9a-4c3d-91f8-75d028ddfaea",
   "metadata": {},
   "outputs": [
    {
     "data": {
      "text/plain": [
       "np.float64(9.4)"
      ]
     },
     "execution_count": 16,
     "metadata": {},
     "output_type": "execute_result"
    }
   ],
   "source": [
    "movies.rating.max()"
   ]
  },
  {
   "cell_type": "markdown",
   "id": "e51d647b-f990-425f-b857-e672d6152f37",
   "metadata": {},
   "source": [
    "## What are the movies with rating above 9?"
   ]
  },
  {
   "cell_type": "code",
   "execution_count": 17,
   "id": "87211039-f1d1-45fd-97ea-a0fa47a725cd",
   "metadata": {},
   "outputs": [
    {
     "data": {
      "text/html": [
       "<div>\n",
       "<style scoped>\n",
       "    .dataframe tbody tr th:only-of-type {\n",
       "        vertical-align: middle;\n",
       "    }\n",
       "\n",
       "    .dataframe tbody tr th {\n",
       "        vertical-align: top;\n",
       "    }\n",
       "\n",
       "    .dataframe thead th {\n",
       "        text-align: right;\n",
       "    }\n",
       "</style>\n",
       "<table border=\"1\" class=\"dataframe\">\n",
       "  <thead>\n",
       "    <tr style=\"text-align: right;\">\n",
       "      <th></th>\n",
       "      <th>movie_name</th>\n",
       "      <th>rating</th>\n",
       "    </tr>\n",
       "  </thead>\n",
       "  <tbody>\n",
       "    <tr>\n",
       "      <th>2</th>\n",
       "      <td>The Godfather</td>\n",
       "      <td>9.2</td>\n",
       "    </tr>\n",
       "    <tr>\n",
       "      <th>1</th>\n",
       "      <td>The Shawshank Redemption</td>\n",
       "      <td>9.3</td>\n",
       "    </tr>\n",
       "    <tr>\n",
       "      <th>0</th>\n",
       "      <td>Jai Bhim</td>\n",
       "      <td>9.4</td>\n",
       "    </tr>\n",
       "  </tbody>\n",
       "</table>\n",
       "</div>"
      ],
      "text/plain": [
       "                 movie_name  rating\n",
       "2             The Godfather     9.2\n",
       "1  The Shawshank Redemption     9.3\n",
       "0                  Jai Bhim     9.4"
      ]
     },
     "execution_count": 17,
     "metadata": {},
     "output_type": "execute_result"
    }
   ],
   "source": [
    "movies[movies.rating > 9][['movie_name','rating']].sort_values('rating')"
   ]
  },
  {
   "cell_type": "markdown",
   "id": "4569fe61-f281-4e62-8e1c-8f9a936e408c",
   "metadata": {},
   "source": [
    "# Top 10 movies per metascore and user rating ?"
   ]
  },
  {
   "cell_type": "code",
   "execution_count": 18,
   "id": "8ac10d82-9982-408a-8db8-ae3b3b126fea",
   "metadata": {},
   "outputs": [
    {
     "data": {
      "text/html": [
       "<div>\n",
       "<style scoped>\n",
       "    .dataframe tbody tr th:only-of-type {\n",
       "        vertical-align: middle;\n",
       "    }\n",
       "\n",
       "    .dataframe tbody tr th {\n",
       "        vertical-align: top;\n",
       "    }\n",
       "\n",
       "    .dataframe thead th {\n",
       "        text-align: right;\n",
       "    }\n",
       "</style>\n",
       "<table border=\"1\" class=\"dataframe\">\n",
       "  <thead>\n",
       "    <tr style=\"text-align: right;\">\n",
       "      <th></th>\n",
       "      <th>movie_name</th>\n",
       "      <th>metascore</th>\n",
       "    </tr>\n",
       "  </thead>\n",
       "  <tbody>\n",
       "    <tr>\n",
       "      <th>2</th>\n",
       "      <td>The Godfather</td>\n",
       "      <td>100.0</td>\n",
       "    </tr>\n",
       "    <tr>\n",
       "      <th>50</th>\n",
       "      <td>Casablanca</td>\n",
       "      <td>100.0</td>\n",
       "    </tr>\n",
       "    <tr>\n",
       "      <th>49</th>\n",
       "      <td>Rear Window</td>\n",
       "      <td>100.0</td>\n",
       "    </tr>\n",
       "    <tr>\n",
       "      <th>109</th>\n",
       "      <td>Lawrence of Arabia</td>\n",
       "      <td>100.0</td>\n",
       "    </tr>\n",
       "    <tr>\n",
       "      <th>117</th>\n",
       "      <td>Citizen Kane</td>\n",
       "      <td>100.0</td>\n",
       "    </tr>\n",
       "    <tr>\n",
       "      <th>112</th>\n",
       "      <td>Vertigo</td>\n",
       "      <td>100.0</td>\n",
       "    </tr>\n",
       "    <tr>\n",
       "      <th>224</th>\n",
       "      <td>Fanny and Alexander</td>\n",
       "      <td>100.0</td>\n",
       "    </tr>\n",
       "    <tr>\n",
       "      <th>52</th>\n",
       "      <td>City Lights</td>\n",
       "      <td>99.0</td>\n",
       "    </tr>\n",
       "    <tr>\n",
       "      <th>113</th>\n",
       "      <td>Singin' in the Rain</td>\n",
       "      <td>99.0</td>\n",
       "    </tr>\n",
       "    <tr>\n",
       "      <th>31</th>\n",
       "      <td>Seven Samurai</td>\n",
       "      <td>98.0</td>\n",
       "    </tr>\n",
       "  </tbody>\n",
       "</table>\n",
       "</div>"
      ],
      "text/plain": [
       "              movie_name  metascore\n",
       "2          The Godfather      100.0\n",
       "50            Casablanca      100.0\n",
       "49           Rear Window      100.0\n",
       "109   Lawrence of Arabia      100.0\n",
       "117         Citizen Kane      100.0\n",
       "112              Vertigo      100.0\n",
       "224  Fanny and Alexander      100.0\n",
       "52           City Lights       99.0\n",
       "113  Singin' in the Rain       99.0\n",
       "31         Seven Samurai       98.0"
      ]
     },
     "execution_count": 18,
     "metadata": {},
     "output_type": "execute_result"
    }
   ],
   "source": [
    "movies[['movie_name','metascore']].sort_values('metascore',ascending=False).head(10)"
   ]
  },
  {
   "cell_type": "code",
   "execution_count": 19,
   "id": "db8a7f92-e6fa-4fa5-ad29-4b4120391597",
   "metadata": {},
   "outputs": [
    {
     "data": {
      "text/html": [
       "<div>\n",
       "<style scoped>\n",
       "    .dataframe tbody tr th:only-of-type {\n",
       "        vertical-align: middle;\n",
       "    }\n",
       "\n",
       "    .dataframe tbody tr th {\n",
       "        vertical-align: top;\n",
       "    }\n",
       "\n",
       "    .dataframe thead th {\n",
       "        text-align: right;\n",
       "    }\n",
       "</style>\n",
       "<table border=\"1\" class=\"dataframe\">\n",
       "  <thead>\n",
       "    <tr style=\"text-align: right;\">\n",
       "      <th></th>\n",
       "      <th>movie_name</th>\n",
       "      <th>rating</th>\n",
       "    </tr>\n",
       "  </thead>\n",
       "  <tbody>\n",
       "    <tr>\n",
       "      <th>0</th>\n",
       "      <td>Jai Bhim</td>\n",
       "      <td>9.4</td>\n",
       "    </tr>\n",
       "    <tr>\n",
       "      <th>1</th>\n",
       "      <td>The Shawshank Redemption</td>\n",
       "      <td>9.3</td>\n",
       "    </tr>\n",
       "    <tr>\n",
       "      <th>2</th>\n",
       "      <td>The Godfather</td>\n",
       "      <td>9.2</td>\n",
       "    </tr>\n",
       "    <tr>\n",
       "      <th>3</th>\n",
       "      <td>The Dark Knight</td>\n",
       "      <td>9.0</td>\n",
       "    </tr>\n",
       "    <tr>\n",
       "      <th>4</th>\n",
       "      <td>The Godfather: Part II</td>\n",
       "      <td>9.0</td>\n",
       "    </tr>\n",
       "    <tr>\n",
       "      <th>5</th>\n",
       "      <td>12 Angry Men</td>\n",
       "      <td>9.0</td>\n",
       "    </tr>\n",
       "    <tr>\n",
       "      <th>6</th>\n",
       "      <td>The Lord of the Rings: The Return of the King</td>\n",
       "      <td>8.9</td>\n",
       "    </tr>\n",
       "    <tr>\n",
       "      <th>7</th>\n",
       "      <td>Pulp Fiction</td>\n",
       "      <td>8.9</td>\n",
       "    </tr>\n",
       "    <tr>\n",
       "      <th>8</th>\n",
       "      <td>Schindler's List</td>\n",
       "      <td>8.9</td>\n",
       "    </tr>\n",
       "    <tr>\n",
       "      <th>9</th>\n",
       "      <td>Inception</td>\n",
       "      <td>8.8</td>\n",
       "    </tr>\n",
       "  </tbody>\n",
       "</table>\n",
       "</div>"
      ],
      "text/plain": [
       "                                      movie_name  rating\n",
       "0                                       Jai Bhim     9.4\n",
       "1                       The Shawshank Redemption     9.3\n",
       "2                                  The Godfather     9.2\n",
       "3                                The Dark Knight     9.0\n",
       "4                         The Godfather: Part II     9.0\n",
       "5                                   12 Angry Men     9.0\n",
       "6  The Lord of the Rings: The Return of the King     8.9\n",
       "7                                   Pulp Fiction     8.9\n",
       "8                               Schindler's List     8.9\n",
       "9                                      Inception     8.8"
      ]
     },
     "execution_count": 19,
     "metadata": {},
     "output_type": "execute_result"
    }
   ],
   "source": [
    "movies[['movie_name','rating']].sort_values('rating',ascending=False).head(10)"
   ]
  },
  {
   "cell_type": "code",
   "execution_count": 20,
   "id": "90afd653-ca55-4072-90c7-61d4596f71a4",
   "metadata": {},
   "outputs": [
    {
     "data": {
      "text/html": [
       "<div>\n",
       "<style scoped>\n",
       "    .dataframe tbody tr th:only-of-type {\n",
       "        vertical-align: middle;\n",
       "    }\n",
       "\n",
       "    .dataframe tbody tr th {\n",
       "        vertical-align: top;\n",
       "    }\n",
       "\n",
       "    .dataframe thead th {\n",
       "        text-align: right;\n",
       "    }\n",
       "</style>\n",
       "<table border=\"1\" class=\"dataframe\">\n",
       "  <thead>\n",
       "    <tr style=\"text-align: right;\">\n",
       "      <th></th>\n",
       "      <th>movie_name</th>\n",
       "      <th>genre</th>\n",
       "    </tr>\n",
       "  </thead>\n",
       "  <tbody>\n",
       "    <tr>\n",
       "      <th>47</th>\n",
       "      <td>Once Upon a Time in the West</td>\n",
       "      <td>Western</td>\n",
       "    </tr>\n",
       "    <tr>\n",
       "      <th>157</th>\n",
       "      <td>For a Few Dollars More</td>\n",
       "      <td>Western</td>\n",
       "    </tr>\n",
       "    <tr>\n",
       "      <th>49</th>\n",
       "      <td>Rear Window</td>\n",
       "      <td>Mystery, Thriller</td>\n",
       "    </tr>\n",
       "    <tr>\n",
       "      <th>69</th>\n",
       "      <td>Memento</td>\n",
       "      <td>Mystery, Thriller</td>\n",
       "    </tr>\n",
       "    <tr>\n",
       "      <th>128</th>\n",
       "      <td>Shutter Island</td>\n",
       "      <td>Mystery, Thriller</td>\n",
       "    </tr>\n",
       "    <tr>\n",
       "      <th>112</th>\n",
       "      <td>Vertigo</td>\n",
       "      <td>Mystery, Romance, Thriller</td>\n",
       "    </tr>\n",
       "    <tr>\n",
       "      <th>74</th>\n",
       "      <td>Alien</td>\n",
       "      <td>Horror, Sci-Fi</td>\n",
       "    </tr>\n",
       "    <tr>\n",
       "      <th>48</th>\n",
       "      <td>Psycho</td>\n",
       "      <td>Horror, Mystery, Thriller</td>\n",
       "    </tr>\n",
       "    <tr>\n",
       "      <th>223</th>\n",
       "      <td>The Thing</td>\n",
       "      <td>Horror, Mystery, Sci-Fi</td>\n",
       "    </tr>\n",
       "    <tr>\n",
       "      <th>243</th>\n",
       "      <td>The Third Man</td>\n",
       "      <td>Film-Noir, Mystery, Thriller</td>\n",
       "    </tr>\n",
       "  </tbody>\n",
       "</table>\n",
       "</div>"
      ],
      "text/plain": [
       "                       movie_name                         genre\n",
       "47   Once Upon a Time in the West                       Western\n",
       "157        For a Few Dollars More                       Western\n",
       "49                    Rear Window             Mystery, Thriller\n",
       "69                        Memento             Mystery, Thriller\n",
       "128                Shutter Island             Mystery, Thriller\n",
       "112                       Vertigo    Mystery, Romance, Thriller\n",
       "74                          Alien                Horror, Sci-Fi\n",
       "48                         Psycho     Horror, Mystery, Thriller\n",
       "223                     The Thing       Horror, Mystery, Sci-Fi\n",
       "243                 The Third Man  Film-Noir, Mystery, Thriller"
      ]
     },
     "execution_count": 20,
     "metadata": {},
     "output_type": "execute_result"
    }
   ],
   "source": [
    "movies[['movie_name','genre']].sort_values('genre',ascending=False).head(10)"
   ]
  },
  {
   "cell_type": "code",
   "execution_count": 21,
   "id": "74f2830b-efd3-470f-8514-ad68e381cc48",
   "metadata": {},
   "outputs": [
    {
     "data": {
      "text/plain": [
       "array(['Crime, Drama', 'Drama', 'Action, Crime, Drama',\n",
       "       'Action, Adventure, Drama', 'Biography, Drama, History',\n",
       "       'Action, Adventure, Sci-Fi', 'Action, Adventure, Fantasy',\n",
       "       'Drama, Romance', 'Adventure, Western', 'Action, Sci-Fi',\n",
       "       'Biography, Crime, Drama', 'Comedy, Drama, Thriller',\n",
       "       'Adventure, Drama, Sci-Fi', 'Animation, Adventure, Family',\n",
       "       'Drama, War', 'Crime, Drama, Fantasy', 'Comedy, Drama, Romance',\n",
       "       'Crime, Drama, Mystery', 'Crime, Drama, Horror',\n",
       "       'Action, Drama, Mystery', 'Action, Drama',\n",
       "       'Drama, Family, Fantasy', 'Drama, Music',\n",
       "       'Biography, Comedy, Drama', 'Drama, Mystery, Thriller',\n",
       "       'Biography, Drama, Music', 'Animation, Adventure, Drama',\n",
       "       'Animation, Drama, War', 'Adventure, Comedy, Sci-Fi', 'Western',\n",
       "       'Horror, Mystery, Thriller', 'Mystery, Thriller',\n",
       "       'Drama, Romance, War', 'Comedy, Drama, Family',\n",
       "       'Crime, Drama, Thriller', 'Animation, Drama, Fantasy',\n",
       "       'Action, Biography, Drama', 'Animation, Action, Adventure',\n",
       "       'Animation, Adventure, Comedy', 'Drama, Western', 'Comedy, Drama',\n",
       "       'Drama, Family', 'Action, Adventure', 'Drama, Horror',\n",
       "       'Drama, Mystery, War', 'Horror, Sci-Fi', 'Comedy, War',\n",
       "       'Drama, Film-Noir', 'Comedy, Drama, War', 'Action, Drama, War',\n",
       "       'Drama, Mystery', 'Adventure, Drama, War',\n",
       "       'Drama, Romance, Sci-Fi', 'Comedy, Romance',\n",
       "       'Drama, Family, Sport', 'Drama, Thriller, War',\n",
       "       'Adventure, Biography, Drama', 'Comedy, Crime, Drama',\n",
       "       'Crime, Sci-Fi', 'Adventure, Sci-Fi',\n",
       "       'Adventure, Mystery, Thriller', 'Mystery, Romance, Thriller',\n",
       "       'Comedy, Musical, Romance', 'Crime, Drama, Film-Noir',\n",
       "       'Crime, Mystery, Thriller', 'Drama, Sci-Fi',\n",
       "       'Comedy, Crime, Music', 'Animation, Drama',\n",
       "       'Action, Comedy, Crime', 'Drama, Mystery, Romance',\n",
       "       'Biography, Comedy, Crime', 'Drama, Fantasy, War',\n",
       "       'Biography, Drama', 'Comedy, Crime', 'Animation, Comedy, Family',\n",
       "       'Action, Thriller', 'Biography, Drama, Sport',\n",
       "       'Adventure, Comedy, Fantasy', 'Crime, Drama, History',\n",
       "       'Adventure, Drama, History', 'Action, Drama, Thriller',\n",
       "       'Comedy, Music, Romance', 'Drama, Fantasy, History',\n",
       "       'Crime, Thriller', 'Adventure, Drama, Western',\n",
       "       'Comedy, Romance, War', 'Adventure, Comedy, Drama',\n",
       "       'Action, Comedy, Romance', 'Drama, Romance, Thriller',\n",
       "       'Action, Drama, Sci-Fi', 'Drama, Thriller',\n",
       "       'Adventure, Comedy, Crime', 'Action, Drama, Sport',\n",
       "       'Adventure, Fantasy, Mystery', 'Biography, Drama, Family',\n",
       "       'Animation, Comedy, Drama', 'Drama, Sport',\n",
       "       'Animation, Action, Drama', 'Comedy, Crime, Sport',\n",
       "       'Adventure, Family, Fantasy', 'Adventure, Drama',\n",
       "       'Animation, Adventure, Sci-Fi', 'Horror, Mystery, Sci-Fi',\n",
       "       'Comedy', 'Adventure, Drama, Thriller',\n",
       "       'Film-Noir, Mystery, Thriller', 'Drama, Film-Noir, Mystery',\n",
       "       'Drama, History, Romance', 'Action, Adventure, Comedy'],\n",
       "      dtype=object)"
      ]
     },
     "execution_count": 21,
     "metadata": {},
     "output_type": "execute_result"
    }
   ],
   "source": [
    "movies.genre.unique()"
   ]
  },
  {
   "cell_type": "code",
   "execution_count": 22,
   "id": "03e6ab3b-d369-4611-9a91-58fb39863445",
   "metadata": {},
   "outputs": [
    {
     "data": {
      "text/plain": [
       "genre\n",
       "Drama                           22\n",
       "Crime, Drama                    14\n",
       "Biography, Drama, History        9\n",
       "Crime, Drama, Mystery            8\n",
       "Drama, War                       8\n",
       "Animation, Adventure, Comedy     8\n",
       "Action, Crime, Drama             7\n",
       "Drama, Romance                   7\n",
       "Action, Adventure, Drama         6\n",
       "Drama, Mystery, Thriller         5\n",
       "Name: count, dtype: int64"
      ]
     },
     "execution_count": 22,
     "metadata": {},
     "output_type": "execute_result"
    }
   ],
   "source": [
    "movies.genre.value_counts().head(10)"
   ]
  },
  {
   "cell_type": "code",
   "execution_count": 23,
   "id": "45706ba7-48d2-417b-b542-71bcd2b25206",
   "metadata": {},
   "outputs": [
    {
     "data": {
      "text/plain": [
       "director\n",
       "T.J. Gnanavel           9.400000\n",
       "Frank Darabont          8.950000\n",
       "Francis Ford Coppola    8.866667\n",
       "Jon Watts               8.800000\n",
       "Peter Jackson           8.800000\n",
       "Name: rating, dtype: float64"
      ]
     },
     "execution_count": 23,
     "metadata": {},
     "output_type": "execute_result"
    }
   ],
   "source": [
    "# Top 5 Directors\n",
    "movies.groupby('director')['rating'].mean().sort_values(ascending = False).head()"
   ]
  },
  {
   "cell_type": "code",
   "execution_count": 24,
   "id": "91768501-18ef-4087-b594-98d2a6238e6c",
   "metadata": {
    "scrolled": true
   },
   "outputs": [
    {
     "data": {
      "text/plain": [
       "actor_1\n",
       "Suriya           9.4\n",
       "Tim Robbins      9.3\n",
       "Liam Neeson      8.9\n",
       "John Travolta    8.9\n",
       "Tom Holland      8.8\n",
       "Name: rating, dtype: float64"
      ]
     },
     "execution_count": 24,
     "metadata": {},
     "output_type": "execute_result"
    }
   ],
   "source": [
    "# Top 5 Actors\n",
    "movies.groupby('actor_1')['rating'].mean().sort_values(ascending = False).head()"
   ]
  },
  {
   "cell_type": "code",
   "execution_count": 25,
   "id": "5bcf86db-9535-4f89-a894-577e3b6b46a1",
   "metadata": {},
   "outputs": [],
   "source": [
    "# Clean the gross_collection column\n",
    "movies['gross_collection In M'] =movies['gross_collection'].str.replace(r'[^\\d.]', '', regex=True).astype(float)   # Remove non-numeric character # Convert to float"
   ]
  },
  {
   "cell_type": "code",
   "execution_count": 26,
   "id": "08f990fd-35c6-4ec5-92f0-2b25d2b831ca",
   "metadata": {},
   "outputs": [
    {
     "data": {
      "text/plain": [
       "0      -2021\n",
       "1      -1994\n",
       "2      -1972\n",
       "3      -2008\n",
       "4      -1974\n",
       "       ...  \n",
       "245    -1939\n",
       "246    -1939\n",
       "247    -1934\n",
       "248    -1928\n",
       "249    -1926\n",
       "Name: year, Length: 250, dtype: object"
      ]
     },
     "execution_count": 26,
     "metadata": {},
     "output_type": "execute_result"
    }
   ],
   "source": [
    "movies.year"
   ]
  },
  {
   "cell_type": "code",
   "execution_count": 27,
   "id": "81bfa31f-59c5-4250-a06c-cfcd61798bc3",
   "metadata": {},
   "outputs": [],
   "source": [
    "movies['year'] = movies.year.str.replace('-','')"
   ]
  },
  {
   "cell_type": "code",
   "execution_count": 28,
   "id": "6066e43e-8917-496a-8649-d842d9c9770f",
   "metadata": {},
   "outputs": [
    {
     "data": {
      "text/plain": [
       "0      2021\n",
       "1      1994\n",
       "2      1972\n",
       "3      2008\n",
       "4      1974\n",
       "       ... \n",
       "245    1939\n",
       "246    1939\n",
       "247    1934\n",
       "248    1928\n",
       "249    1926\n",
       "Name: year, Length: 250, dtype: object"
      ]
     },
     "execution_count": 28,
     "metadata": {},
     "output_type": "execute_result"
    }
   ],
   "source": [
    "movies.year"
   ]
  },
  {
   "cell_type": "markdown",
   "id": "065df3d1-43a5-4558-96e3-3b9e2c127bab",
   "metadata": {},
   "source": [
    "# Insights from the descriptive data"
   ]
  },
  {
   "cell_type": "code",
   "execution_count": 29,
   "id": "ff534152-3e56-42c0-a3c3-e9d9694cc927",
   "metadata": {},
   "outputs": [
    {
     "name": "stdout",
     "output_type": "stream",
     "text": [
      "Insights:\n",
      "Minimum rating: 8.1\n",
      "Maximum rating: 9.4\n",
      "Average number of votes: 578,530\n",
      "Average metascore: 82.4\n"
     ]
    }
   ],
   "source": [
    "print(\"Insights:\")\n",
    "print(f\"Minimum rating: {movies['rating'].min()}\")\n",
    "print(f\"Maximum rating: {movies['rating'].max()}\")\n",
    "print(f\"Average number of votes: {movies['votes'].mean():,.0f}\")\n",
    "print(f\"Average metascore: {movies['metascore'].mean():.1f}\")"
   ]
  },
  {
   "cell_type": "markdown",
   "id": "f079807b-3e92-483d-81fe-416e8fd12699",
   "metadata": {},
   "source": [
    "# Visualization: Distribution of Ratings"
   ]
  },
  {
   "cell_type": "code",
   "execution_count": 30,
   "id": "d942d180-202b-446d-ad8b-cb8d060a3487",
   "metadata": {},
   "outputs": [
    {
     "data": {
      "image/png": "[encoded data removed]",
      "text/plain": [
       "<Figure size 800x600 with 1 Axes>"
      ]
     },
     "metadata": {},
     "output_type": "display_data"
    }
   ],
   "source": [
    "plt.figure(figsize=(8,6))\n",
    "sns.histplot(movies['rating'], kde=True, bins=20, color='skyblue')\n",
    "plt.title('Distribution of Movie Ratings')\n",
    "plt.xlabel('Rating')\n",
    "plt.ylabel('Frequency')\n",
    "plt.show()"
   ]
  },
  {
   "cell_type": "markdown",
   "id": "04a1b529-17e1-414a-b6a0-cf5ed2cb3482",
   "metadata": {},
   "source": [
    "# Visualization: Year vs. Gross Collection"
   ]
  },
  {
   "cell_type": "code",
   "execution_count": 51,
   "id": "c6df6095-f9e2-4b48-80a0-aee7b4a91584",
   "metadata": {},
   "outputs": [
    {
     "data": {
      "text/html": [
       "<div>\n",
       "<style scoped>\n",
       "    .dataframe tbody tr th:only-of-type {\n",
       "        vertical-align: middle;\n",
       "    }\n",
       "\n",
       "    .dataframe tbody tr th {\n",
       "        vertical-align: top;\n",
       "    }\n",
       "\n",
       "    .dataframe thead th {\n",
       "        text-align: right;\n",
       "    }\n",
       "</style>\n",
       "<table border=\"1\" class=\"dataframe\">\n",
       "  <thead>\n",
       "    <tr style=\"text-align: right;\">\n",
       "      <th></th>\n",
       "      <th>year</th>\n",
       "      <th>gross_collection In M</th>\n",
       "    </tr>\n",
       "  </thead>\n",
       "  <tbody>\n",
       "    <tr>\n",
       "      <th>80</th>\n",
       "      <td>2012</td>\n",
       "      <td>203.8800</td>\n",
       "    </tr>\n",
       "    <tr>\n",
       "      <th>81</th>\n",
       "      <td>2013</td>\n",
       "      <td>78.1900</td>\n",
       "    </tr>\n",
       "    <tr>\n",
       "      <th>82</th>\n",
       "      <td>2014</td>\n",
       "      <td>86.2180</td>\n",
       "    </tr>\n",
       "    <tr>\n",
       "      <th>83</th>\n",
       "      <td>2015</td>\n",
       "      <td>154.0600</td>\n",
       "    </tr>\n",
       "    <tr>\n",
       "      <th>84</th>\n",
       "      <td>2016</td>\n",
       "      <td>21.6575</td>\n",
       "    </tr>\n",
       "    <tr>\n",
       "      <th>85</th>\n",
       "      <td>2017</td>\n",
       "      <td>140.3950</td>\n",
       "    </tr>\n",
       "    <tr>\n",
       "      <th>86</th>\n",
       "      <td>2018</td>\n",
       "      <td>191.4340</td>\n",
       "    </tr>\n",
       "    <tr>\n",
       "      <th>87</th>\n",
       "      <td>2019</td>\n",
       "      <td>304.8080</td>\n",
       "    </tr>\n",
       "    <tr>\n",
       "      <th>88</th>\n",
       "      <td>2020</td>\n",
       "      <td>NaN</td>\n",
       "    </tr>\n",
       "    <tr>\n",
       "      <th>89</th>\n",
       "      <td>2021</td>\n",
       "      <td>NaN</td>\n",
       "    </tr>\n",
       "  </tbody>\n",
       "</table>\n",
       "</div>"
      ],
      "text/plain": [
       "    year  gross_collection In M\n",
       "80  2012               203.8800\n",
       "81  2013                78.1900\n",
       "82  2014                86.2180\n",
       "83  2015               154.0600\n",
       "84  2016                21.6575\n",
       "85  2017               140.3950\n",
       "86  2018               191.4340\n",
       "87  2019               304.8080\n",
       "88  2020                    NaN\n",
       "89  2021                    NaN"
      ]
     },
     "execution_count": 51,
     "metadata": {},
     "output_type": "execute_result"
    }
   ],
   "source": [
    "# Perform the aggregation\n",
    "gross_By_year =movies.groupby('year')['gross_collection In M'].mean().reset_index().tail(10)  # Convert to DataFrame\n",
    "\n",
    "\n",
    "gross_By_year"
   ]
  },
  {
   "cell_type": "code",
   "execution_count": 52,
   "id": "93d8de34-0fe4-47f2-85b4-f200976f02cc",
   "metadata": {},
   "outputs": [
    {
     "data": {
      "image/png": "[encoded data removed]",
      "text/plain": [
       "<Figure size 1200x600 with 1 Axes>"
      ]
     },
     "metadata": {},
     "output_type": "display_data"
    }
   ],
   "source": [
    "plt.figure(figsize=(12, 6))\n",
    "sns.lineplot(data=gross_By_year, x='year', y='gross_collection In M', marker='o', color='orange')\n",
    "plt.title('Yearly Gross Collection Trends')\n",
    "plt.xlabel('Year')\n",
    "plt.ylabel('Gross Collection (in million $)')\n",
    "plt.xticks(rotation=45)\n",
    "plt.show()"
   ]
  },
  {
   "cell_type": "markdown",
   "id": "f76a1c2f-7d07-4823-90cb-76f96d27b9ce",
   "metadata": {},
   "source": [
    "# Visualization: Genre vs. Average Rating"
   ]
  },
  {
   "cell_type": "code",
   "execution_count": 94,
   "id": "febf587c-c615-488e-97b8-a55b910c09b4",
   "metadata": {},
   "outputs": [
    {
     "data": {
      "text/html": [
       "<div>\n",
       "<style scoped>\n",
       "    .dataframe tbody tr th:only-of-type {\n",
       "        vertical-align: middle;\n",
       "    }\n",
       "\n",
       "    .dataframe tbody tr th {\n",
       "        vertical-align: top;\n",
       "    }\n",
       "\n",
       "    .dataframe thead th {\n",
       "        text-align: right;\n",
       "    }\n",
       "</style>\n",
       "<table border=\"1\" class=\"dataframe\">\n",
       "  <thead>\n",
       "    <tr style=\"text-align: right;\">\n",
       "      <th></th>\n",
       "      <th>genre</th>\n",
       "      <th>rating</th>\n",
       "    </tr>\n",
       "  </thead>\n",
       "  <tbody>\n",
       "    <tr>\n",
       "      <th>0</th>\n",
       "      <td>Action, Adventure</td>\n",
       "      <td>8.300000</td>\n",
       "    </tr>\n",
       "    <tr>\n",
       "      <th>1</th>\n",
       "      <td>Action, Adventure, Comedy</td>\n",
       "      <td>8.100000</td>\n",
       "    </tr>\n",
       "    <tr>\n",
       "      <th>2</th>\n",
       "      <td>Action, Adventure, Drama</td>\n",
       "      <td>8.583333</td>\n",
       "    </tr>\n",
       "    <tr>\n",
       "      <th>3</th>\n",
       "      <td>Action, Adventure, Fantasy</td>\n",
       "      <td>8.600000</td>\n",
       "    </tr>\n",
       "    <tr>\n",
       "      <th>4</th>\n",
       "      <td>Action, Adventure, Sci-Fi</td>\n",
       "      <td>8.340000</td>\n",
       "    </tr>\n",
       "    <tr>\n",
       "      <th>5</th>\n",
       "      <td>Action, Biography, Drama</td>\n",
       "      <td>8.200000</td>\n",
       "    </tr>\n",
       "    <tr>\n",
       "      <th>6</th>\n",
       "      <td>Action, Comedy, Crime</td>\n",
       "      <td>8.200000</td>\n",
       "    </tr>\n",
       "    <tr>\n",
       "      <th>7</th>\n",
       "      <td>Action, Comedy, Romance</td>\n",
       "      <td>8.200000</td>\n",
       "    </tr>\n",
       "    <tr>\n",
       "      <th>8</th>\n",
       "      <td>Action, Crime, Drama</td>\n",
       "      <td>8.414286</td>\n",
       "    </tr>\n",
       "    <tr>\n",
       "      <th>9</th>\n",
       "      <td>Action, Drama</td>\n",
       "      <td>8.600000</td>\n",
       "    </tr>\n",
       "  </tbody>\n",
       "</table>\n",
       "</div>"
      ],
      "text/plain": [
       "                        genre    rating\n",
       "0           Action, Adventure  8.300000\n",
       "1   Action, Adventure, Comedy  8.100000\n",
       "2    Action, Adventure, Drama  8.583333\n",
       "3  Action, Adventure, Fantasy  8.600000\n",
       "4   Action, Adventure, Sci-Fi  8.340000\n",
       "5    Action, Biography, Drama  8.200000\n",
       "6       Action, Comedy, Crime  8.200000\n",
       "7     Action, Comedy, Romance  8.200000\n",
       "8        Action, Crime, Drama  8.414286\n",
       "9               Action, Drama  8.600000"
      ]
     },
     "execution_count": 94,
     "metadata": {},
     "output_type": "execute_result"
    }
   ],
   "source": [
    "avg_genre_rating = movies.groupby('genre')['rating'].mean().head(10).reset_index()\n",
    "avg_genre_rating"
   ]
  },
  {
   "cell_type": "code",
   "execution_count": 95,
   "id": "b5ee3149-fea5-433e-9b4f-a0a8993343a4",
   "metadata": {},
   "outputs": [
    {
     "data": {
      "image/png": "[encoded data removed]",
      "text/plain": [
       "<Figure size 1000x600 with 1 Axes>"
      ]
     },
     "metadata": {},
     "output_type": "display_data"
    }
   ],
   "source": [
    "plt.figure(figsize=(10,6))\n",
    "# avg_genre_rating = movies.groupby('genre')['rating'].mean().sort_values(ascending=False)\n",
    "sns.barplot(data=avg_genre_rating, x='genre', y='rating', palette='viridis',hue='genre', dodge=False,legend=False)\n",
    "plt.title('Average Rating by Genre')\n",
    "plt.xlabel('Genre')\n",
    "plt.ylabel('Average Rating')\n",
    "plt.xticks(rotation=45)\n",
    "plt.show()"
   ]
  },
  {
   "cell_type": "markdown",
   "id": "f44eebea-63ad-4add-b3f9-0b39665c6df1",
   "metadata": {},
   "source": [
    "# Visualization: Director vs. Average Metascore (Top 10 Directors)\n"
   ]
  },
  {
   "cell_type": "code",
   "execution_count": 105,
   "id": "2930448e-182e-4e3e-8539-f27d1facf524",
   "metadata": {},
   "outputs": [
    {
     "data": {
      "image/png": "[encoded data removed]",
      "text/plain": [
       "<Figure size 1200x600 with 1 Axes>"
      ]
     },
     "metadata": {},
     "output_type": "display_data"
    }
   ],
   "source": [
    "plt.figure(figsize=(12,6))\n",
    "avg_director_metascore = movies.groupby('director')['metascore'].mean().nlargest(10)\n",
    "sns.barplot(x=avg_director_metascore.index, y=avg_director_metascore.values,hue=avg_director_metascore.index,  # Assigning the x variable to hue\n",
    "    palette='magma', \n",
    "    dodge=False,  # Prevent splitting of bars\n",
    "    legend=False)\n",
    "plt.title('Top 10 Directors by Average Metascore')\n",
    "plt.xlabel('Average Metascore')\n",
    "plt.ylabel('Director')\n",
    "plt.show()"
   ]
  },
  {
   "cell_type": "markdown",
   "id": "99d9069a-3b36-4903-9393-c8a3883b7ae5",
   "metadata": {},
   "source": [
    "# Visualization: Votes vs. Ratings\n"
   ]
  },
  {
   "cell_type": "code",
   "execution_count": 104,
   "id": "8b018203-964c-4b5b-8868-a28e84d7c5ac",
   "metadata": {},
   "outputs": [
    {
     "data": {
      "image/png": "[encoded data removed]",
      "text/plain": [
       "<Figure size 800x600 with 1 Axes>"
      ]
     },
     "metadata": {},
     "output_type": "display_data"
    }
   ],
   "source": [
    "plt.figure(figsize=(8, 6))\n",
    "sns.scatterplot(data=movies, x='votes', y='rating', hue='genre', palette='cool', alpha=0.7,legend=False)\n",
    "plt.title('Votes vs. Ratings by Genre')\n",
    "plt.xlabel('Number of Votes')\n",
    "plt.ylabel('Rating')\n",
    "plt.xscale('log')  # Log scale for better visualization\n",
    "plt.show()"
   ]
  },
  {
   "cell_type": "markdown",
   "id": "28c5c517-72a5-40af-8b2e-0232372a0c86",
   "metadata": {},
   "source": [
    "# Visualization: Runtime Distribution\n"
   ]
  },
  {
   "cell_type": "code",
   "execution_count": 120,
   "id": "7da5b2e4-d0fa-45cb-bc00-7fd375a87214",
   "metadata": {},
   "outputs": [
    {
     "data": {
      "text/plain": [
       "0      164.0\n",
       "1      142.0\n",
       "2      175.0\n",
       "3      152.0\n",
       "4      202.0\n",
       "       ...  \n",
       "245    129.0\n",
       "246    238.0\n",
       "247    105.0\n",
       "248    114.0\n",
       "249     67.0\n",
       "Name: runtime In Mn, Length: 250, dtype: float64"
      ]
     },
     "execution_count": 120,
     "metadata": {},
     "output_type": "execute_result"
    }
   ],
   "source": [
    "movies['runtime In Mn'] = movies['runtime'].str.replace(r'[^\\d.]', '', regex=True).astype(float)\n",
    "movies['runtime In Mn']"
   ]
  },
  {
   "cell_type": "code",
   "execution_count": 150,
   "id": "8262722b-0ee5-4080-8743-1da7286e800f",
   "metadata": {},
   "outputs": [
    {
     "data": {
      "image/png": "[encoded data removed]",
      "text/plain": [
       "<Figure size 800x600 with 1 Axes>"
      ]
     },
     "metadata": {},
     "output_type": "display_data"
    }
   ],
   "source": [
    "# Filter movies by runtime and sort them in descending order\n",
    "top_movies = movies.sort_values(by='runtime In Mn', ascending=False)\n",
    "\n",
    "plt.figure(figsize=(8, 6))\n",
    "sns.scatterplot(\n",
    "    data=top_movies,\n",
    "    x='runtime In Mn',  # Runtime column\n",
    "    y='votes',         # Rating column\n",
    "    color='blue',\n",
    "    s=50  # Adjust the size of the scatter points\n",
    ")\n",
    "plt.title('Runtime vs votes')\n",
    "plt.xlabel('Runtime (minutes)')\n",
    "plt.ylabel('Rating')\n",
    "plt.show()\n"
   ]
  },
  {
   "cell_type": "code",
   "execution_count": 155,
   "id": "c97591e6-f99c-42a8-89da-c7b25756def0",
   "metadata": {},
   "outputs": [
    {
     "data": {
      "image/png": "[encoded data removed]",
      "text/plain": [
       "<Figure size 1200x600 with 1 Axes>"
      ]
     },
     "metadata": {},
     "output_type": "display_data"
    }
   ],
   "source": [
    "# Visualization: Top 10 Actors by Frequency\n",
    "plt.figure(figsize=(12, 6))\n",
    "actor_frequency = movies['actor_1'].value_counts().nlargest(10)\n",
    "sns.barplot(y=actor_frequency.values, x=actor_frequency.index, hue=actor_frequency.index,  # Assigning the x variable to hue\n",
    "    palette='cubehelix', \n",
    "    dodge=False,  # Prevent splitting of bars\n",
    "    legend=False)\n",
    "plt.title('Top 10 Actors by Movie Appearances')\n",
    "plt.xlabel('Number of Movies')\n",
    "plt.ylabel('Actor')\n",
    "plt.show()"
   ]
  }
 ],
 "metadata": {
  "kernelspec": {
   "display_name": "Python 3 (ipykernel)",
   "language": "python",
   "name": "python3"
  },
  "language_info": {
   "codemirror_mode": {
    "name": "ipython",
    "version": 3
   },
   "file_extension": ".py",
   "mimetype": "text/x-python",
   "name": "python",
   "nbconvert_exporter": "python",
   "pygments_lexer": "ipython3",
   "version": "3.12.6"
  }
 },
 "nbformat": 4,
 "nbformat_minor": 5
}
